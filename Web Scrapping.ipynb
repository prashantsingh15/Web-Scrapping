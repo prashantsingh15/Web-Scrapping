{
 "cells": [
  {
   "cell_type": "markdown",
   "id": "af7fe75f",
   "metadata": {},
   "source": [
    "## Q1. What is Web Scraping? Why is it Used? Give three areas where Web Scraping is used to get data."
   ]
  },
  {
   "cell_type": "markdown",
   "id": "e640b8c9",
   "metadata": {},
   "source": [
    "- Web scraping is the automated process of extracting information, data, or content from websites. It involves writing code or using specialized tools to access the HTML or other structured data on a website and then extracting the desired information for further analysis, storage, or manipulation.\n",
    "\n",
    "- It is used for --\n",
    "i ) Data Collection and Analysis\n",
    "ii ) Competitor Monitoring\n",
    "iii ) Market Research\n",
    "etc\n",
    "\n",
    "- Three Areas are -->\n",
    "\n",
    "i) Social Media and Sentiment Analysis\n",
    "ii ) News And Media Monitoring\n",
    "iii) E-Commerce and Retail"
   ]
  },
  {
   "cell_type": "markdown",
   "id": "4b5c5d59",
   "metadata": {},
   "source": [
    "## Q2. What are the different methods used for Web Scraping?"
   ]
  },
  {
   "cell_type": "markdown",
   "id": "6f5b487f",
   "metadata": {},
   "source": [
    "- Here are the different methods used for Web Scrapping..\n",
    "\n",
    "i ) Data Scraping Tools\n",
    "ii ) Cusom Scripts\n",
    "iii_) Web Scraping libraries\n",
    "iV ) Parsing html\n",
    "v ) using APIs"
   ]
  },
  {
   "cell_type": "markdown",
   "id": "859b2ac7",
   "metadata": {},
   "source": [
    "## Q3. What is Beautiful Soup? Why is it used?"
   ]
  },
  {
   "cell_type": "markdown",
   "id": "6bc9fdeb",
   "metadata": {},
   "source": [
    "- Beautiful Soup is a Python library that is commonly used for web scraping and parsing HTML and XML documents. It provides a convenient way to navigate and manipulate the structure of these documents, making it easier to extract specific data and information from web pages."
   ]
  },
  {
   "cell_type": "markdown",
   "id": "5e6bb974",
   "metadata": {},
   "source": [
    "## Q4. Why is flask used in this Web Scraping project?"
   ]
  },
  {
   "cell_type": "markdown",
   "id": "2f0399e9",
   "metadata": {},
   "source": [
    "-  Flask can enhance your web scraping project's user interface and functionality , it can be used in combination with web scraping projects for several reasons:"
   ]
  },
  {
   "cell_type": "markdown",
   "id": "87671eb4",
   "metadata": {},
   "source": [
    "## Q5. Write the names of AWS services used in this project. Also, explain the use of each service."
   ]
  },
  {
   "cell_type": "markdown",
   "id": "30c425c6",
   "metadata": {},
   "source": [
    "- In a web scraping project hosted on AWS (Amazon Web Services), we can utilize various AWS services to build, deploy, and manage your application. --\n",
    "\n",
    "I ) Amazon EC2 (Elastic Compute Cloud): EC2 is a service that provides resizable compute capacity in the cloud. You can use EC2 instances to host your Flask application and web scraping scripts.\n",
    "\n",
    "ii ) Amazon CloudWatch: CloudWatch provides monitoring and observability for your AWS resources. You can use it to collect and track metrics, set up alarms, and gain insights into the performance of your EC2 instances, Lambda functions, and other resources.\n",
    "\n",
    "iii ) Amazon Route 53: Route 53 is a scalable domain name system (DNS) web service. You can use it to register domain names for your web scraping application and route traffic to your EC2 instances or other resources.\n",
    "\n",
    "iv ) Amazon CloudFormation: CloudFormation enables you to create and manage AWS infrastructure as code. You can define templates that describe the resources needed for your web scraping project and deploy them consistently."
   ]
  }
 ],
 "metadata": {
  "kernelspec": {
   "display_name": "Python 3 (ipykernel)",
   "language": "python",
   "name": "python3"
  },
  "language_info": {
   "codemirror_mode": {
    "name": "ipython",
    "version": 3
   },
   "file_extension": ".py",
   "mimetype": "text/x-python",
   "name": "python",
   "nbconvert_exporter": "python",
   "pygments_lexer": "ipython3",
   "version": "3.11.4"
  }
 },
 "nbformat": 4,
 "nbformat_minor": 5
}
